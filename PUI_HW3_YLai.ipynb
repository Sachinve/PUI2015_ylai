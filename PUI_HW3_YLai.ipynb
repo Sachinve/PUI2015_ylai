{
 "cells": [
  {
   "cell_type": "code",
   "execution_count": 60,
   "metadata": {
    "collapsed": false
   },
   "outputs": [
    {
     "name": "stdout",
     "output_type": "stream",
     "text": [
      "Populating the interactive namespace from numpy and matplotlib\n"
     ]
    },
    {
     "ename": "IOError",
     "evalue": "[Errno 2] No such file or directory: '/Users/ericlaibuffalo/PUI2015/ylai_matplotlibrc.json'",
     "output_type": "error",
     "traceback": [
      "\u001b[0;31m---------------------------------------------------------------------------\u001b[0m",
      "\u001b[0;31mIOError\u001b[0m                                   Traceback (most recent call last)",
      "\u001b[0;32m<ipython-input-60-f2b3f9d9497e>\u001b[0m in \u001b[0;36m<module>\u001b[0;34m()\u001b[0m\n\u001b[1;32m      8\u001b[0m \u001b[0;32mimport\u001b[0m \u001b[0mjson\u001b[0m\u001b[0;34m\u001b[0m\u001b[0m\n\u001b[1;32m      9\u001b[0m \u001b[0;32mimport\u001b[0m \u001b[0mos\u001b[0m\u001b[0;34m\u001b[0m\u001b[0m\n\u001b[0;32m---> 10\u001b[0;31m \u001b[0ms\u001b[0m \u001b[0;34m=\u001b[0m \u001b[0mjson\u001b[0m\u001b[0;34m.\u001b[0m\u001b[0mload\u001b[0m\u001b[0;34m(\u001b[0m \u001b[0mopen\u001b[0m\u001b[0;34m(\u001b[0m\u001b[0mos\u001b[0m\u001b[0;34m.\u001b[0m\u001b[0mgetenv\u001b[0m\u001b[0;34m(\u001b[0m\u001b[0;34m\"PUI2015\"\u001b[0m\u001b[0;34m)\u001b[0m\u001b[0;34m+\u001b[0m\u001b[0;34m\"/ylai_matplotlibrc.json\"\u001b[0m\u001b[0;34m)\u001b[0m \u001b[0;34m)\u001b[0m\u001b[0;34m\u001b[0m\u001b[0m\n\u001b[0m\u001b[1;32m     11\u001b[0m \u001b[0mpl\u001b[0m\u001b[0;34m.\u001b[0m\u001b[0mrcParams\u001b[0m\u001b[0;34m.\u001b[0m\u001b[0mupdate\u001b[0m\u001b[0;34m(\u001b[0m\u001b[0ms\u001b[0m\u001b[0;34m)\u001b[0m\u001b[0;34m\u001b[0m\u001b[0m\n",
      "\u001b[0;31mIOError\u001b[0m: [Errno 2] No such file or directory: '/Users/ericlaibuffalo/PUI2015/ylai_matplotlibrc.json'"
     ]
    }
   ],
   "source": [
    "from __future__ import print_function\n",
    "__author__ = 'ylai'\n",
    "\n",
    "import pylab as pl\n",
    "import numpy as np\n",
    "%pylab inline\n",
    "\n",
    "import json\n",
    "import os\n",
    "s = json.load( open(os.getenv(\"PUI2015\")+\"/ylai_matplotlibrc.json\") )\n",
    "pl.rcParams.update(s)"
   ]
  },
  {
   "cell_type": "code",
   "execution_count": 61,
   "metadata": {
    "collapsed": false
   },
   "outputs": [],
   "source": [
    "mymean = 100\n",
    "distributions = {}\n",
    "distributions['chisq'] = np.random.chisquare(mymean, 100)"
   ]
  },
  {
   "cell_type": "code",
   "execution_count": 62,
   "metadata": {
    "collapsed": false
   },
   "outputs": [
    {
     "data": {
      "text/plain": [
       "(array([  7.,  10.,  13.,  23.,  27.,   7.,   7.,   3.,   2.,   1.]),\n",
       " array([  67.95872572,   76.4992821 ,   85.03983848,   93.58039486,\n",
       "         102.12095124,  110.66150762,  119.20206401,  127.74262039,\n",
       "         136.28317677,  144.82373315,  153.36428953]),\n",
       " <a list of 10 Patch objects>)"
      ]
     },
     "execution_count": 62,
     "metadata": {},
     "output_type": "execute_result"
    },
    {
     "data": {
      "image/png": "[encoded data removed]",
      "text/plain": [
       "<matplotlib.figure.Figure at 0x10eb5fb10>"
      ]
     },
     "metadata": {},
     "output_type": "display_data"
    }
   ],
   "source": [
    "pl.hist(distributions['chisq'])"
   ]
  },
  {
   "cell_type": "code",
   "execution_count": 63,
   "metadata": {
    "collapsed": false
   },
   "outputs": [
    {
     "name": "stdout",
     "output_type": "stream",
     "text": [
      "101.058619844\n",
      "16.1781849848\n"
     ]
    }
   ],
   "source": [
    "print (distributions['chisq'].mean())\n",
    "print (distributions['chisq'].std())"
   ]
  },
  {
   "cell_type": "code",
   "execution_count": 64,
   "metadata": {
    "collapsed": false
   },
   "outputs": [
    {
     "name": "stdout",
     "output_type": "stream",
     "text": [
      "[1818 1666 1538 1428 1333 1250 1176 1111 1052 1000  952  909  869  833  800\n",
      "  769  740  714  689  666  645  625  606  588  571  555  540  526  512  500\n",
      "  487  476  465  454  444  434  425  416  408  400  392  384  377  370  363\n",
      "  357  350  344  338  333  327  322  317  312  307  303  298  294  289  285\n",
      "  281  277  273  270  266  263  259  256  253  250  246  243  240  238  235\n",
      "  232  229  227  224  222  219  217  215  212  210  208  206  204  202]\n"
     ]
    }
   ],
   "source": [
    "mysizes = 20000/(np.array(range(1,90))+10)\n",
    "print (mysize)"
   ]
  },
  {
   "cell_type": "code",
   "execution_count": 65,
   "metadata": {
    "collapsed": false
   },
   "outputs": [],
   "source": [
    "distributions = {'chisq':{}}\n",
    "for n in mysizes:\n",
    "    distributions['chisq'][n] = np.random.chisquare(mymean,n)\n",
    "    "
   ]
  },
  {
   "cell_type": "code",
   "execution_count": 66,
   "metadata": {
    "collapsed": false,
    "scrolled": false
   },
   "outputs": [
    {
     "data": {
      "image/png": "[encoded data removed]",
      "text/plain": [
       "<matplotlib.figure.Figure at 0x10f72e190>"
      ]
     },
     "metadata": {},
     "output_type": "display_data"
    }
   ],
   "source": [
    "means = {}\n",
    "means['chisq'] = {}\n",
    "\n",
    "fig_mu_N = pl.figure(figsize=(10,10))\n",
    "axchiq_mu_n = fig_mu_N.add_subplot(1,1,1)\n",
    "for nn in distributions['chisq']:\n",
    "    axchiq_mu_n.plot(nn, distributions['chisq'][nn].mean(), 'o')\n",
    "    axchiq_mu_n.set_xlabel('sample size')\n",
    "    axchiq_mu_n.set_ylabel('sample mean')\n",
    "    axchiq_mu_n.plot([min(mysizes), max(mysizes)], [mymean, mymean], 'k')\n"
   ]
  },
  {
   "cell_type": "code",
   "execution_count": null,
   "metadata": {
    "collapsed": true
   },
   "outputs": [],
   "source": []
  }
 ],
 "metadata": {
  "kernelspec": {
   "display_name": "Python 2",
   "language": "python",
   "name": "python2"
  },
  "language_info": {
   "codemirror_mode": {
    "name": "ipython",
    "version": 2
   },
   "file_extension": ".py",
   "mimetype": "text/x-python",
   "name": "python",
   "nbconvert_exporter": "python",
   "pygments_lexer": "ipython2",
   "version": "2.7.10"
  }
 },
 "nbformat": 4,
 "nbformat_minor": 0
}
